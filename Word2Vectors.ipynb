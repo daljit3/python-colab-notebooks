{
  "nbformat": 4,
  "nbformat_minor": 0,
  "metadata": {
    "colab": {
      "name": "09 Word2Vectors.ipynb",
      "provenance": [],
      "include_colab_link": true
    },
    "kernelspec": {
      "name": "python3",
      "display_name": "Python 3"
    }
  },
  "cells": [
    {
      "cell_type": "markdown",
      "metadata": {
        "id": "view-in-github",
        "colab_type": "text"
      },
      "source": [
        "<a href=\"https://colab.research.google.com/github/daljit3/python-colab-notebooks/blob/main/Word2Vectors.ipynb\" target=\"_parent\"><img src=\"https://colab.research.google.com/assets/colab-badge.svg\" alt=\"Open In Colab\"/></a>"
      ]
    },
    {
      "cell_type": "code",
      "metadata": {
        "id": "8Pcgpfvz0RGb"
      },
      "source": [
        "import numpy as np"
      ],
      "execution_count": null,
      "outputs": []
    },
    {
      "cell_type": "code",
      "metadata": {
        "id": "147TqC9T0cg5",
        "colab": {
          "base_uri": "https://localhost:8080/",
          "height": 35
        },
        "outputId": "7b358175-cbb4-464a-cdb5-ccccd290466b"
      },
      "source": [
        "# BODY -> body of string from which we will dervice our vectors\n",
        "corpus_raw = 'Richie Rich is rich. The rich person is a happy person. He and She are not rich.'\n",
        "corpus_lower = corpus_raw.lower()\n",
        "corpus_lower"
      ],
      "execution_count": 2,
      "outputs": [
        {
          "output_type": "execute_result",
          "data": {
            "application/vnd.google.colaboratory.intrinsic+json": {
              "type": "string"
            },
            "text/plain": [
              "'richie rich is rich. the rich person is a happy person. he and she are not rich.'"
            ]
          },
          "metadata": {},
          "execution_count": 2
        }
      ]
    },
    {
      "cell_type": "code",
      "metadata": {
        "id": "tB1pYErB05gb",
        "colab": {
          "base_uri": "https://localhost:8080/"
        },
        "outputId": "23930b35-db83-4424-8a20-400cf3d53057"
      },
      "source": [
        "words = []\n",
        "for word in corpus_lower.split():\n",
        "  if word == '.': # independent punctuation (not directly next to a word)\n",
        "    # if punctuation is not individual word but a part of word-> bye.\n",
        "    word = word.replace('.', '') # every punctuation that we don't want should be filtered here\n",
        "    words.append(word)\n",
        "  else:\n",
        "    words.append(word)\n",
        "\n",
        "print(words)\n",
        "# TO CONVERT TO VECTORS , we don't want repeating! \n",
        "# Which DS allows us to avoid repeating? SET!!\n",
        "print(len(words))\n",
        "unique_words = set(words)\n",
        "print(unique_words)\n",
        "print(len(unique_words))"
      ],
      "execution_count": 3,
      "outputs": [
        {
          "output_type": "stream",
          "name": "stdout",
          "text": [
            "['richie', 'rich', 'is', 'rich.', 'the', 'rich', 'person', 'is', 'a', 'happy', 'person.', 'he', 'and', 'she', 'are', 'not', 'rich.']\n",
            "17\n",
            "{'a', 'she', 'happy', 'richie', 'he', 'not', 'rich', 'and', 'are', 'is', 'person', 'the', 'rich.', 'person.'}\n",
            "14\n"
          ]
        }
      ]
    },
    {
      "cell_type": "code",
      "metadata": {
        "id": "DjOiG1jl1i1m",
        "colab": {
          "base_uri": "https://localhost:8080/"
        },
        "outputId": "e4d618de-c53b-423e-ab0b-e8ea030975ae"
      },
      "source": [
        "word2int = {} # this was wht we had in imdb yesterday (word_index)\n",
        "int2word = {}\n",
        "vocab_size = len(unique_words)\n",
        "for i,word in enumerate(unique_words):\n",
        "  # 0,word1 - 1,word2 - 2, word3\n",
        "  word2int[word] =i \n",
        "  int2word[i] = word\n",
        "\n",
        "print(word2int)\n",
        "print(int2word)\n",
        "print(word2int['rich'])"
      ],
      "execution_count": 6,
      "outputs": [
        {
          "output_type": "stream",
          "name": "stdout",
          "text": [
            "{'a': 0, 'she': 1, 'happy': 2, 'richie': 3, 'he': 4, 'not': 5, 'rich': 6, 'and': 7, 'are': 8, 'is': 9, 'person': 10, 'the': 11, 'rich.': 12, 'person.': 13}\n",
            "{0: 'a', 1: 'she', 2: 'happy', 3: 'richie', 4: 'he', 5: 'not', 6: 'rich', 7: 'and', 8: 'are', 9: 'is', 10: 'person', 11: 'the', 12: 'rich.', 13: 'person.'}\n",
            "6\n"
          ]
        }
      ]
    },
    {
      "cell_type": "code",
      "metadata": {
        "id": "cKxVFQtT23IR"
      },
      "source": [
        "# Challenge-> Convert above steps to a lambda function for dictionary reversal "
      ],
      "execution_count": null,
      "outputs": []
    },
    {
      "cell_type": "code",
      "source": [
        "# unique_words\n",
        "word2int = { word:idx for idx,word in enumerate(unique_words)}\n",
        "int2word = dict(map(lambda kv: (kv[1], kv[0]), word2int.items()))"
      ],
      "metadata": {
        "id": "9J7__PIpzE42"
      },
      "execution_count": 18,
      "outputs": []
    },
    {
      "cell_type": "code",
      "source": [
        "word2int"
      ],
      "metadata": {
        "id": "Ddt7rATWzNXo",
        "outputId": "8d3894a7-3db4-4f89-9dc2-2184ce662b89",
        "colab": {
          "base_uri": "https://localhost:8080/"
        }
      },
      "execution_count": 19,
      "outputs": [
        {
          "output_type": "execute_result",
          "data": {
            "text/plain": [
              "{'a': 0,\n",
              " 'and': 7,\n",
              " 'are': 8,\n",
              " 'happy': 2,\n",
              " 'he': 4,\n",
              " 'is': 9,\n",
              " 'not': 5,\n",
              " 'person': 10,\n",
              " 'person.': 13,\n",
              " 'rich': 6,\n",
              " 'rich.': 12,\n",
              " 'richie': 3,\n",
              " 'she': 1,\n",
              " 'the': 11}"
            ]
          },
          "metadata": {},
          "execution_count": 19
        }
      ]
    },
    {
      "cell_type": "code",
      "source": [
        "int2word"
      ],
      "metadata": {
        "id": "a6rUyt0k3xpt",
        "outputId": "5792553c-c797-4d33-fd3b-49a65c8b3ef5",
        "colab": {
          "base_uri": "https://localhost:8080/"
        }
      },
      "execution_count": 20,
      "outputs": [
        {
          "output_type": "execute_result",
          "data": {
            "text/plain": [
              "{0: 'a',\n",
              " 1: 'she',\n",
              " 2: 'happy',\n",
              " 3: 'richie',\n",
              " 4: 'he',\n",
              " 5: 'not',\n",
              " 6: 'rich',\n",
              " 7: 'and',\n",
              " 8: 'are',\n",
              " 9: 'is',\n",
              " 10: 'person',\n",
              " 11: 'the',\n",
              " 12: 'rich.',\n",
              " 13: 'person.'}"
            ]
          },
          "metadata": {},
          "execution_count": 20
        }
      ]
    }
  ]
}